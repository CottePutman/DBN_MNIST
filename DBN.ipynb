{
 "cells": [
  {
   "cell_type": "markdown",
   "metadata": {},
   "source": [
    "# 深度置信网络的MNIST手写识别"
   ]
  },
  {
   "cell_type": "code",
   "execution_count": 7,
   "metadata": {},
   "outputs": [],
   "source": [
    "import torch\n",
    "import torch.nn as nn\n",
    "import torchvision\n",
    "from torchvision import transforms\n",
    "from torch.utils.data import DataLoader\n",
    "import matplotlib.pyplot as plt"
   ]
  },
  {
   "cell_type": "code",
   "execution_count": null,
   "metadata": {},
   "outputs": [],
   "source": [
    "# 设置超参数\n",
    "batch_size = 64\n",
    "learning_rate = 0.001\n",
    "\n",
    "# 记录训练过程中的损失值用以可视化\n",
    "loss_values = []"
   ]
  },
  {
   "cell_type": "code",
   "execution_count": null,
   "metadata": {},
   "outputs": [],
   "source": [
    "\n",
    "# 加载 MNIST 数据集\n",
    "transform = transforms.Compose([\n",
    "    transforms.ToTensor(), \n",
    "    transforms.Normalize((0.5,), (0.5,))])\n",
    "\n",
    "train_dataset = torchvision.datasets.MNIST(root='./data', train=True, transform=transform, download=True)\n",
    "test_dataset = torchvision.datasets.MNIST(root='./data', train=False, transform=transform, download=True)\n",
    "\n",
    "train_loader = DataLoader(dataset=train_dataset, batch_size=batch_size, shuffle=True)\n",
    "test_loader = DataLoader(dataset=test_dataset, batch_size=batch_size, shuffle=False)"
   ]
  },
  {
   "cell_type": "markdown",
   "metadata": {},
   "source": [
    "### transform为对数据集的预处理规则，包含两个操作：\n",
    "1. `ToTensor()`将图像转换为 PyTorch 的 Tensor 数据类型。PyTorch 中的神经网络模型通常需要使用 Tensor 类型的数据进行训练，因此这个操作将图像转换为神经网络可接受的数据格式。\n",
    "2. `Normalize()`对图像进行标准化处理，这里传入的参数是均值和标准差。对图像的每个通道执行标准化操作，这有助于加快模型的收敛速度，并提高模型的训练稳定性。"
   ]
  },
  {
   "cell_type": "code",
   "execution_count": null,
   "metadata": {},
   "outputs": [],
   "source": [
    "# RBM 类的定义\n",
    "class RBM(nn.Module):\n",
    "    def __init__(self, visible_units, hidden_units):\n",
    "        super(RBM, self).__init__()\n",
    "        self.W = nn.Parameter(torch.randn(visible_units, hidden_units))     # 随机初始化所有权重\n",
    "        self.v_bias = nn.Parameter(torch.randn(visible_units))              # 根据可见层数量初始化可见层偏置\n",
    "        self.h_bias = nn.Parameter(torch.randn(hidden_units))               # 根据隐藏层数量初始化隐藏层偏置\n",
    "\n",
    "    def forward(self, v):\n",
    "        h_prob = torch.sigmoid(torch.matmul(v, self.W) + self.h_bias)\n",
    "        h_sample = torch.bernoulli(h_prob)\n",
    "        return h_sample                                                     # 返回隐藏层的采样值"
   ]
  },
  {
   "cell_type": "markdown",
   "metadata": {},
   "source": [
    "- `v`: 表示可见层的输入。\n",
    "- `self.W`: 是可训练的权重矩阵，连接可见层和隐藏层。\n",
    "- `self.h_bias`: 表示隐藏层的偏置（隐藏层的阈值）。\n",
    "\n",
    "\n",
    "1. `torch.matmul(v, self.W) + self.h_bias`: 这行代码计算了隐藏层单元的激活值。首先，它执行了可见层输入 `v` 与权重矩阵 `self.W` 的矩阵乘法，然后加上隐藏层的偏置 `self.h_bias`。\n",
    "   \n",
    "2. `torch.sigmoid(...)`: 对上一步计算的结果进行 Sigmoid 激活函数的处理，将激活值转换为介于 0 和 1 之间的概率值。这些值代表隐藏单元被激活的概率。\n",
    "\n",
    "3. `torch.bernoulli(...)`: 将这些概率值作为伯努利分布的参数，进行伯努利采样，以确定每个隐藏单元是否被激活。即，以概率值为准，随机决定是否将隐藏单元置为1（激活）或0（不激活）。\n",
    "\n",
    "4. `return h_sample`: 返回进行伯努利采样后的隐藏层的采样值。\n",
    "\n",
    "这段代码实现了一个典型的受限玻尔兹曼机中可见层到隐藏层的前向传播过程，其中隐藏层的状态是通过 Sigmoid 激活函数和伯努利采样得到的。"
   ]
  },
  {
   "cell_type": "code",
   "execution_count": 8,
   "metadata": {},
   "outputs": [],
   "source": [
    "# DBN 类的定义\n",
    "# 由于MNIST为28像素*28像素的图片，故第一层RBM为[784*512]，第二层为[512*256]，第三层为[256*10]\n",
    "class DeepBeliefNetwork(nn.Module):\n",
    "    def __init__(self):\n",
    "        super(DeepBeliefNetwork, self).__init__()\n",
    "        self.rbm1 = RBM(visible_units=28 * 28, hidden_units=512)\n",
    "        self.rbm2 = RBM(visible_units=512, hidden_units=256)\n",
    "        self.fc = nn.Linear(256, 10)\n",
    "\n",
    "    def forward(self, x):\n",
    "        x = x.view(-1, 28 * 28)   # 重塑输入数据以匹配 rbm1 的输入维度\n",
    "        x = self.rbm1(x)          # 第一个 RBM 的输出\n",
    "        x = self.rbm2(x)          # 第二个 RBM 的输出\n",
    "        x = self.fc(x)            # 全连接层\n",
    "        return x"
   ]
  },
  {
   "cell_type": "code",
   "execution_count": 9,
   "metadata": {},
   "outputs": [],
   "source": [
    "# 初始化模型、损失函数和优化器\n",
    "model = DeepBeliefNetwork()\n",
    "criterion = nn.CrossEntropyLoss()           # 使用交叉熵，适用于多分类问题\n",
    "optimizer = torch.optim.Adam(model.parameters(), lr=learning_rate)"
   ]
  },
  {
   "cell_type": "code",
   "execution_count": 10,
   "metadata": {},
   "outputs": [
    {
     "name": "stdout",
     "output_type": "stream",
     "text": [
      "Epoch 1, Batch 300, Loss: 1.7205\n",
      "Epoch 1, Batch 600, Loss: 1.5910\n",
      "Epoch 1, Batch 900, Loss: 1.5544\n",
      "Epoch 2, Batch 300, Loss: 1.5442\n",
      "Epoch 2, Batch 600, Loss: 1.5373\n",
      "Epoch 2, Batch 900, Loss: 1.5277\n",
      "Epoch 3, Batch 300, Loss: 1.5233\n",
      "Epoch 3, Batch 600, Loss: 1.5219\n",
      "Epoch 3, Batch 900, Loss: 1.5225\n",
      "Epoch 4, Batch 300, Loss: 1.5146\n",
      "Epoch 4, Batch 600, Loss: 1.5173\n",
      "Epoch 4, Batch 900, Loss: 1.5169\n",
      "Epoch 5, Batch 300, Loss: 1.5118\n",
      "Epoch 5, Batch 600, Loss: 1.5127\n",
      "Epoch 5, Batch 900, Loss: 1.5094\n",
      "Epoch 6, Batch 300, Loss: 1.5072\n",
      "Epoch 6, Batch 600, Loss: 1.5100\n",
      "Epoch 6, Batch 900, Loss: 1.5068\n",
      "Epoch 7, Batch 300, Loss: 1.5121\n",
      "Epoch 7, Batch 600, Loss: 1.5032\n",
      "Epoch 7, Batch 900, Loss: 1.5044\n",
      "Epoch 8, Batch 300, Loss: 1.5015\n",
      "Epoch 8, Batch 600, Loss: 1.5032\n",
      "Epoch 8, Batch 900, Loss: 1.5008\n",
      "Epoch 9, Batch 300, Loss: 1.5013\n",
      "Epoch 9, Batch 600, Loss: 1.5031\n",
      "Epoch 9, Batch 900, Loss: 1.5036\n",
      "Epoch 10, Batch 300, Loss: 1.5005\n",
      "Epoch 10, Batch 600, Loss: 1.5010\n",
      "Epoch 10, Batch 900, Loss: 1.5028\n",
      "Epoch 11, Batch 300, Loss: 1.4994\n",
      "Epoch 11, Batch 600, Loss: 1.4998\n",
      "Epoch 11, Batch 900, Loss: 1.4971\n",
      "Epoch 12, Batch 300, Loss: 1.4988\n",
      "Epoch 12, Batch 600, Loss: 1.4983\n",
      "Epoch 12, Batch 900, Loss: 1.4955\n",
      "Epoch 13, Batch 300, Loss: 1.4967\n",
      "Epoch 13, Batch 600, Loss: 1.4979\n",
      "Epoch 13, Batch 900, Loss: 1.4948\n",
      "Epoch 14, Batch 300, Loss: 1.4992\n",
      "Epoch 14, Batch 600, Loss: 1.4969\n",
      "Epoch 14, Batch 900, Loss: 1.4968\n",
      "Epoch 15, Batch 300, Loss: 1.4944\n",
      "Epoch 15, Batch 600, Loss: 1.4937\n",
      "Epoch 15, Batch 900, Loss: 1.4993\n",
      "Epoch 16, Batch 300, Loss: 1.4949\n",
      "Epoch 16, Batch 600, Loss: 1.4972\n",
      "Epoch 16, Batch 900, Loss: 1.4950\n",
      "Epoch 17, Batch 300, Loss: 1.4977\n",
      "Epoch 17, Batch 600, Loss: 1.4955\n",
      "Epoch 17, Batch 900, Loss: 1.4916\n",
      "Epoch 18, Batch 300, Loss: 1.4964\n",
      "Epoch 18, Batch 600, Loss: 1.4963\n",
      "Epoch 18, Batch 900, Loss: 1.4916\n",
      "Epoch 19, Batch 300, Loss: 1.4938\n",
      "Epoch 19, Batch 600, Loss: 1.4985\n",
      "Epoch 19, Batch 900, Loss: 1.4965\n",
      "Epoch 20, Batch 300, Loss: 1.4967\n",
      "Epoch 20, Batch 600, Loss: 1.4944\n",
      "Epoch 20, Batch 900, Loss: 1.4971\n",
      "Epoch 21, Batch 300, Loss: 1.5003\n",
      "Epoch 21, Batch 600, Loss: 1.4939\n",
      "Epoch 21, Batch 900, Loss: 1.4948\n",
      "Epoch 22, Batch 300, Loss: 1.4966\n",
      "Epoch 22, Batch 600, Loss: 1.4945\n",
      "Epoch 22, Batch 900, Loss: 1.4951\n",
      "Epoch 23, Batch 300, Loss: 1.4940\n",
      "Epoch 23, Batch 600, Loss: 1.4928\n",
      "Epoch 23, Batch 900, Loss: 1.4898\n",
      "Epoch 24, Batch 300, Loss: 1.4983\n",
      "Epoch 24, Batch 600, Loss: 1.4948\n",
      "Epoch 24, Batch 900, Loss: 1.4951\n",
      "Epoch 25, Batch 300, Loss: 1.4921\n",
      "Epoch 25, Batch 600, Loss: 1.4967\n",
      "Epoch 25, Batch 900, Loss: 1.4956\n",
      "Epoch 26, Batch 300, Loss: 1.4939\n",
      "Epoch 26, Batch 600, Loss: 1.4910\n",
      "Epoch 26, Batch 900, Loss: 1.4992\n",
      "Epoch 27, Batch 300, Loss: 1.4956\n",
      "Epoch 27, Batch 600, Loss: 1.5016\n",
      "Epoch 27, Batch 900, Loss: 1.4930\n",
      "Epoch 28, Batch 300, Loss: 1.4907\n",
      "Epoch 28, Batch 600, Loss: 1.4919\n",
      "Epoch 28, Batch 900, Loss: 1.4937\n",
      "Epoch 29, Batch 300, Loss: 1.4951\n",
      "Epoch 29, Batch 600, Loss: 1.5009\n",
      "Epoch 29, Batch 900, Loss: 1.4915\n",
      "Epoch 30, Batch 300, Loss: 1.4937\n",
      "Epoch 30, Batch 600, Loss: 1.4928\n",
      "Epoch 30, Batch 900, Loss: 1.4908\n",
      "Epoch 31, Batch 300, Loss: 1.4931\n",
      "Epoch 31, Batch 600, Loss: 1.4884\n",
      "Epoch 31, Batch 900, Loss: 1.4939\n",
      "Epoch 32, Batch 300, Loss: 1.4965\n",
      "Epoch 32, Batch 600, Loss: 1.4981\n",
      "Epoch 32, Batch 900, Loss: 1.4944\n",
      "Epoch 33, Batch 300, Loss: 1.4938\n",
      "Epoch 33, Batch 600, Loss: 1.4982\n",
      "Epoch 33, Batch 900, Loss: 1.4940\n",
      "Epoch 34, Batch 300, Loss: 1.4968\n",
      "Epoch 34, Batch 600, Loss: 1.4930\n",
      "Epoch 34, Batch 900, Loss: 1.4922\n",
      "Epoch 35, Batch 300, Loss: 1.4957\n",
      "Epoch 35, Batch 600, Loss: 1.4985\n",
      "Epoch 35, Batch 900, Loss: 1.4966\n",
      "Epoch 36, Batch 300, Loss: 1.4943\n",
      "Epoch 36, Batch 600, Loss: 1.4958\n",
      "Epoch 36, Batch 900, Loss: 1.4941\n",
      "Epoch 37, Batch 300, Loss: 1.4988\n",
      "Epoch 37, Batch 600, Loss: 1.4949\n",
      "Epoch 37, Batch 900, Loss: 1.4967\n",
      "Epoch 38, Batch 300, Loss: 1.4924\n",
      "Epoch 38, Batch 600, Loss: 1.4905\n",
      "Epoch 38, Batch 900, Loss: 1.4975\n",
      "Epoch 39, Batch 300, Loss: 1.4951\n",
      "Epoch 39, Batch 600, Loss: 1.4930\n",
      "Epoch 39, Batch 900, Loss: 1.4954\n",
      "Epoch 40, Batch 300, Loss: 1.4906\n",
      "Epoch 40, Batch 600, Loss: 1.4919\n",
      "Epoch 40, Batch 900, Loss: 1.4934\n",
      "Epoch 41, Batch 300, Loss: 1.4949\n",
      "Epoch 41, Batch 600, Loss: 1.4937\n",
      "Epoch 41, Batch 900, Loss: 1.5020\n",
      "Epoch 42, Batch 300, Loss: 1.4943\n",
      "Epoch 42, Batch 600, Loss: 1.4908\n",
      "Epoch 42, Batch 900, Loss: 1.4945\n",
      "Epoch 43, Batch 300, Loss: 1.4937\n",
      "Epoch 43, Batch 600, Loss: 1.4969\n",
      "Epoch 43, Batch 900, Loss: 1.4915\n",
      "Epoch 44, Batch 300, Loss: 1.4913\n",
      "Epoch 44, Batch 600, Loss: 1.4899\n",
      "Epoch 44, Batch 900, Loss: 1.4936\n",
      "Epoch 45, Batch 300, Loss: 1.4951\n",
      "Epoch 45, Batch 600, Loss: 1.4939\n",
      "Epoch 45, Batch 900, Loss: 1.4998\n",
      "Epoch 46, Batch 300, Loss: 1.4947\n",
      "Epoch 46, Batch 600, Loss: 1.4896\n",
      "Epoch 46, Batch 900, Loss: 1.4980\n",
      "Epoch 47, Batch 300, Loss: 1.4982\n",
      "Epoch 47, Batch 600, Loss: 1.4996\n",
      "Epoch 47, Batch 900, Loss: 1.4950\n",
      "Epoch 48, Batch 300, Loss: 1.4918\n",
      "Epoch 48, Batch 600, Loss: 1.4924\n",
      "Epoch 48, Batch 900, Loss: 1.4889\n",
      "Epoch 49, Batch 300, Loss: 1.4914\n",
      "Epoch 49, Batch 600, Loss: 1.4928\n",
      "Epoch 49, Batch 900, Loss: 1.4878\n",
      "Epoch 50, Batch 300, Loss: 1.5043\n",
      "Epoch 50, Batch 600, Loss: 1.4948\n",
      "Epoch 50, Batch 900, Loss: 1.4916\n",
      "Finished Training\n"
     ]
    }
   ],
   "source": [
    "# 训练模型\n",
    "epochs = 50\n",
    "for epoch in range(epochs):\n",
    "    # 设置变量用于追踪每个epoch内每个batch的损失值总和，方便输出\n",
    "    running_loss = 0.0\n",
    "    \n",
    "    # 利用Dataloader对训练集进行遍历\n",
    "    for i, data in enumerate(train_loader, 0):\n",
    "        inputs, labels = data       # data返回值为一个包含输入数据与对应标签的二元组\n",
    "        optimizer.zero_grad()       # 将模型参数的梯度归零，使其不会累积之前计算的梯度值\n",
    "        outputs = model(inputs)\n",
    "        loss = criterion(outputs, labels)\n",
    "        loss.backward()             # 反向传播\n",
    "        optimizer.step()\n",
    "\n",
    "        running_loss += loss.item()\n",
    "        \n",
    "        if i % 300 == 299:          # 每 300 次迭代打印一次损失值\n",
    "            avg_loss = running_loss / 300\n",
    "            loss_values.append(avg_loss)\n",
    "            print(f\"Epoch {epoch + 1}, Batch {i + 1}, Loss: {avg_loss:.4f}\")\n",
    "            running_loss = 0.0\n",
    "\n",
    "print(\"Finished Training\")"
   ]
  },
  {
   "cell_type": "markdown",
   "metadata": {},
   "source": [
    "在 PyTorch 中，梯度是在反向传播过程中计算的，用于更新神经网络的参数，优化模型以减小损失函数的值。然而，梯度是累积的，即每次计算梯度时，PyTorch 默认会将新计算得到的梯度值添加到已有的梯度上。"
   ]
  },
  {
   "cell_type": "code",
   "execution_count": 11,
   "metadata": {},
   "outputs": [
    {
     "name": "stdout",
     "output_type": "stream",
     "text": [
      "Accuracy on test set: 96.80%\n"
     ]
    }
   ],
   "source": [
    "# 测试模型\n",
    "correct = 0\n",
    "total = 0\n",
    "with torch.no_grad():\n",
    "    for data in test_loader:\n",
    "        inputs, labels = data\n",
    "        outputs = model(inputs)\n",
    "        _, predicted = torch.max(outputs.data, 1) \n",
    "        total += labels.size(0)\n",
    "        correct += (predicted == labels).sum().item()\n",
    "\n",
    "print(f\"Accuracy on test set: {100 * correct / total:.2f}%\")"
   ]
  },
  {
   "cell_type": "markdown",
   "metadata": {},
   "source": [
    "在 PyTorch 中， `_, predicted = torch.max(outputs.data, 1)` 中，下划线 `_` 实际上是一个占位符，用于忽略 `torch.max()` 函数返回的第一个值，只保留第二个值。\n",
    "\n",
    "在这个语句中，`torch.max(outputs.data, 1)` 返回一个元组，第一个值是最大值的张量，第二个值是最大值所在的索引（在这里是预测的类别标签）。使用下划线 _ 表示我们不需要最大值的张量，只需将最大值所在的索引赋值给 predicted 变量以获取模型预测的类别标签。"
   ]
  },
  {
   "cell_type": "code",
   "execution_count": 12,
   "metadata": {},
   "outputs": [
    {
     "data": {
      "image/png": "[encoded data removed]",
      "text/plain": [
       "<Figure size 800x600 with 1 Axes>"
      ]
     },
     "metadata": {},
     "output_type": "display_data"
    }
   ],
   "source": [
    "# 可视化损失值\n",
    "plt.figure(figsize=(8, 6))\n",
    "plt.plot(loss_values, label='Training Loss')\n",
    "plt.title('Training Loss over iterations')\n",
    "plt.xlabel('Iterations')\n",
    "plt.ylabel('Loss')\n",
    "plt.legend()\n",
    "plt.show()"
   ]
  }
 ],
 "metadata": {
  "kernelspec": {
   "display_name": "fish",
   "language": "python",
   "name": "python3"
  },
  "language_info": {
   "codemirror_mode": {
    "name": "ipython",
    "version": 3
   },
   "file_extension": ".py",
   "mimetype": "text/x-python",
   "name": "python",
   "nbconvert_exporter": "python",
   "pygments_lexer": "ipython3",
   "version": "3.10.6"
  }
 },
 "nbformat": 4,
 "nbformat_minor": 2
}
